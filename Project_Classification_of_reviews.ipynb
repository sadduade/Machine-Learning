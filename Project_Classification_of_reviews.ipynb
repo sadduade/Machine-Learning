{
  "cells": [
    {
      "cell_type": "markdown",
      "metadata": {
        "id": "D5mWoK1H5Smy"
      },
      "source": [
        "### **Проект: \"Автоматическая классификация отзывов: анализ настроений клиентов маркетплейсов\"**\n",
        "\n",
        "**Цель проекта** — разработка системы для автоматической классификации отзывов на товары, которая определяет полярность отзывов (положительные или отрицательные) на основе их текстового содержания. Модель, обученная на отзывах Amazon, может быть применена для анализа отзывов на других платформах онлайн-торговли, таких как eBay, Walmart и другие, при условии, что структура данных схожа.\n",
        "\n",
        "### **Business Understanding:**\n",
        "\n",
        "В современном мире, где онлайн-торговля становится всё более популярной, компании сталкиваются с необходимостью оперативного анализа отзывов клиентов. Автоматическая классификация отзывов на товары может существенно упростить этот процесс, позволив своевременно выявлять негативные отзывы и предпринимать меры по улучшению качества товаров и обслуживания.\n",
        "\n",
        "**Решение этой задачи имеет множество применений:**\n",
        "\n",
        "*   Мониторинг отзывов в реальном времени\n",
        "*   Анализ настроений клиентов\n",
        "*   Улучшение качества продукции и сервиса"
      ]
    },
    {
      "cell_type": "code",
      "execution_count": null,
      "metadata": {
        "id": "tBvAS_cIBkyr"
      },
      "outputs": [],
      "source": [
        "import pandas as pd\n",
        "import numpy as np"
      ]
    },
    {
      "cell_type": "code",
      "execution_count": null,
      "metadata": {
        "colab": {
          "base_uri": "https://localhost:8080/"
        },
        "id": "lKgKAStJBvzD",
        "outputId": "a5f8374e-080c-46a8-a832-f7c1f36feaef"
      },
      "outputs": [
        {
          "output_type": "stream",
          "name": "stdout",
          "text": [
            "Mounted at /content/drive\n"
          ]
        }
      ],
      "source": [
        "from google.colab import drive\n",
        "drive.mount('/content/drive')"
      ]
    },
    {
      "cell_type": "markdown",
      "metadata": {
        "id": "Brezc2pr8_g3"
      },
      "source": [
        "### **Data Understanding:**\n",
        "\n",
        "Датасет содержит 20 тысяч отзывов на товары с Amazon и соответствующие метки, где 1 обозначает положительный отзыв, а 0 — отрицательный. Это предоставляет  возможность применить методы машинного обучения для решения задачи бинарной классификации текстовых данных.\n",
        "\n",
        "Датасет состоит из двух колонок:\n",
        "\n",
        "*   Text: текст отзыва.\n",
        "*   Label: метка отзыва (1 - положительный, 0 - отрицательный).\n"
      ]
    },
    {
      "cell_type": "code",
      "execution_count": null,
      "metadata": {
        "id": "KMKmL_wQBxN-"
      },
      "outputs": [],
      "source": [
        "data = pd.read_csv('/content/drive/MyDrive/Colab Notebooks/amazon.csv')"
      ]
    },
    {
      "cell_type": "code",
      "execution_count": null,
      "metadata": {
        "colab": {
          "base_uri": "https://localhost:8080/"
        },
        "id": "7903S3g5Cwpc",
        "outputId": "ae28a61d-43b5-4f15-faeb-aac96579652d"
      },
      "outputs": [
        {
          "output_type": "stream",
          "name": "stdout",
          "text": [
            "0    This is  the best apps acording to a bunch of ...\n",
            "1    This is a pretty good version of the game for ...\n",
            "2    this is a really . there are a bunch of levels...\n",
            "3    This is a silly game and can be frustrating, b...\n",
            "4    This is a terrific game on any pad. Hrs of fun...\n",
            "Name: Text, dtype: object\n"
          ]
        }
      ],
      "source": [
        "import spacy\n",
        "from spacy.lang.en.stop_words import STOP_WORDS\n",
        "\n",
        "nlp = spacy.load('en_core_web_sm')\n",
        "\n",
        "# Предобработка текста\n",
        "def preprocess_text(text):\n",
        "    doc = nlp(text)\n",
        "    tokens = [token.lemma_.lower() for token in doc if token.is_alpha and not token.is_stop]\n",
        "    return ' '.join(tokens)\n",
        "\n",
        "data['processed_text'] = data['Text'].apply(preprocess_text)\n",
        "\n",
        "print(data['processed_text'].head())"
      ]
    },
    {
      "cell_type": "code",
      "execution_count": null,
      "metadata": {
        "id": "8HHMQmDUE-E4"
      },
      "outputs": [],
      "source": [
        "# Разделение на обучающую и тестовую выборки\n",
        "from sklearn.model_selection import train_test_split\n",
        "\n",
        "X = data['processed_text']\n",
        "y = data['label']\n",
        "\n",
        "X_train, X_test, y_train, y_test = train_test_split(X, y, test_size=0.2, random_state=42)"
      ]
    },
    {
      "cell_type": "markdown",
      "metadata": {
        "id": "GIaIvQApPYTC"
      },
      "source": [
        "Формула TF-IDF:\n",
        "\n",
        "$$\n",
        "\\text{TF-IDF}(t, d) = \\text{TF}(t, d) \\times \\text{IDF}(t)\n",
        "$$\n",
        "где:\n",
        "- $\\text{TF}(t, d)$ — частота терма $t$ в документе $d$.\n",
        "- $\\text{IDF}(t)$:\n",
        "$$\n",
        "\\text{IDF}(t) = \\log \\frac{N}{|\\{d \\in D : t \\in d\\}|}\n",
        "$$\n"
      ]
    },
    {
      "cell_type": "markdown",
      "metadata": {
        "id": "KNDdhrKZsneZ"
      },
      "source": [
        "**Векторизация текста была выполнена с помощью TF-IDF**. Этот метод хорошо подходит для выделения важных слов в тексте и уменьшения влияния часто встречающихся слов. Он походит для решения задачи классификации, где важно минимизировать ложные срабатывания"
      ]
    },
    {
      "cell_type": "code",
      "execution_count": null,
      "metadata": {
        "id": "TgBPb38FFQxO"
      },
      "outputs": [],
      "source": [
        "from sklearn.feature_extraction.text import TfidfVectorizer\n",
        "\n",
        "# Векторизация текста\n",
        "tfidf_vectorizer = TfidfVectorizer()\n",
        "X_train_vec = tfidf_vectorizer.fit_transform(X_train)\n",
        "X_test_vec = tfidf_vectorizer.transform(X_test)"
      ]
    },
    {
      "cell_type": "markdown",
      "metadata": {
        "id": "CkvJJh_z7Wsj"
      },
      "source": [
        "### **Baseline:**\n",
        "\n",
        "Для создания базовой модели была использована логистическая регрессия. Для оценки модели были использованы метрики: Accuracy, Precision, Recall и F1. Логистическая регрессия проста в реализации и интерпретации, что делает её отличным выбором для начального этапа. Также она на позволяет получить начальные метрики для сравнения с более сложными моделями."
      ]
    },
    {
      "cell_type": "markdown",
      "metadata": {
        "id": "h77CxofFXgnd"
      },
      "source": [
        "### Формула для логистической регрессии:\n",
        "$$\n",
        "\\hat{y} = \\frac{1}{1 + e^{-(\\beta_0 + \\beta_1 x_1 + \\beta_2 x_2 + \\ldots + \\beta_n x_n)}}\n",
        "$$\n",
        "где:\n",
        "- $\\hat{y}$ — предсказанная вероятность положительного класса.\n",
        "- $\\beta_0$ — смещение (intercept).\n",
        "- $\\beta_i$ — коэффициенты модели.\n",
        "- $x_i$ — признаки.\n",
        "\n",
        "\n"
      ]
    },
    {
      "cell_type": "code",
      "execution_count": null,
      "metadata": {
        "id": "BCmt_bXpI3Bb"
      },
      "outputs": [],
      "source": [
        "from sklearn.linear_model import LogisticRegression\n",
        "from sklearn.metrics import accuracy_score, precision_score, recall_score, f1_score\n",
        "\n",
        "# Обучение базовой модели\n",
        "baseline_model = LogisticRegression()\n",
        "baseline_model.fit(X_train_vec, y_train)\n",
        "\n",
        "# Предсказание и оценка\n",
        "y_pred = baseline_model.predict(X_test_vec)"
      ]
    },
    {
      "cell_type": "markdown",
      "metadata": {
        "id": "QgSu5TgpJnLo"
      },
      "source": [
        " ### Формулы метрик для оценки модели\n",
        "\n",
        "\n",
        "      Accuracy\n",
        "$$\n",
        "\\text{Accuracy} = \\frac{TP + TN}{TP + TN + FP + FN}\n",
        "$$\n",
        "\n",
        "      Precision\n",
        "$$\n",
        "\\text{Precision} = \\frac{TP}{TP + FP}\n",
        "$$\n",
        "\n",
        "      Recall\n",
        "$$\n",
        "\\text{Recall} = \\frac{TP}{TP + FN}\n",
        "$$\n",
        "\n",
        "      F1 Score\n",
        "$$\n",
        "\\text{F1} = 2 \\cdot \\frac{\\text{Precision} \\cdot \\text{Recall}}{\\text{Precision} + \\text{Recall}}\n",
        "$$\n"
      ]
    },
    {
      "cell_type": "code",
      "execution_count": null,
      "metadata": {
        "colab": {
          "base_uri": "https://localhost:8080/"
        },
        "id": "B0Qq9r25Jd3n",
        "outputId": "cc934e71-f840-4855-82e9-86557cb9272f"
      },
      "outputs": [
        {
          "output_type": "stream",
          "name": "stdout",
          "text": [
            "Accuracy: 0.878\n",
            "Precision: 0.8830108827085853\n",
            "Recall: 0.9665784248841827\n",
            "F1 Score: 0.9229067930489732\n"
          ]
        }
      ],
      "source": [
        "print(f'Accuracy: {accuracy_score(y_test, y_pred)}')\n",
        "print(f'Precision: {precision_score(y_test, y_pred)}')\n",
        "print(f'Recall: {recall_score(y_test, y_pred)}')\n",
        "print(f'F1 Score: {f1_score(y_test, y_pred)}')"
      ]
    },
    {
      "cell_type": "markdown",
      "source": [
        "**Оценка результатов**\n",
        "\n",
        "- Accuracy: модель правильно классифицирует большинство отзывов.\n",
        "- Precision: модель редко ошибается при классификации положительных отзывов.\n",
        "- Высокий Recall: модель почти все положительные отзывы классифицирует правильно, но может пропускать некоторые отрицательные отзывы.\n",
        "- Высокий F1 Score: баланс между Accuracy и Recall очень хороший."
      ],
      "metadata": {
        "id": "8qqG7PUwdYz3"
      }
    },
    {
      "cell_type": "markdown",
      "metadata": {
        "id": "TVL9SOlI8ibx"
      },
      "source": [
        "### **Modeling:**\n",
        "\n",
        "Для улучшения результатов использовалась модель RandomForestClassifier с подбором гиперпараметров GridSearchCV.\n",
        "\n",
        "**Random Forest Classifier** подходит для задач классификации, благодаря объединению множества деревьев решений, позволяет легко настраивать гиперпараметры, такие как количество деревьев и максимальная глубина, устойчив к шуму в данных.\n",
        "\n",
        "\n",
        "**GridSearchCV** позволяет произвести исчерпывающий поиск по всем возможным комбинациям заданных гиперпараметров, что гарантирует нахождение наилучших параметров в пределах заданной сетки; использует кросс-валидацию для оценки производительности модели на каждой комбинации гиперпараметров, что обеспечивает надёжность результатов; автоматизирует процесс подбора гиперпараметров, что экономит время и усилия по сравнению с ручным подбором и оценкой.\n"
      ]
    },
    {
      "cell_type": "markdown",
      "metadata": {
        "id": "LfSaOqSPTDBn"
      },
      "source": [
        "### RandomForestClassifier\n",
        "Формула для среднего предсказания:\n",
        "$$\n",
        "\\hat{y} = \\frac{1}{N} \\sum_{i=1}^{N} \\hat{y}_i\n",
        "$$\n"
      ]
    },
    {
      "cell_type": "markdown",
      "source": [
        "### **Выбор гиперпараметров**\n",
        "\n",
        "**1. n_estimators (количество деревьев в лесу):**\n",
        "- Значения: [100, 200]\n",
        "-  для поиска оптимального баланса между производительностью и временем выполнения\n",
        "\n",
        "**2. max_depth (максимальная глубина деревьев):**\n",
        "- Значения: [None, 20]\n",
        "- значение None позволяет деревьям расти до полной глубины, что может улучшить обучение, но приводит к переобучению. Значение 20 ограничивает глубину деревьев, что помогает предотвратить переобучение\n",
        "\n",
        "**3. min_samples_split (минимальное количество образцов для разбиения узла):**\n",
        "- Значения: [2, 5]\n",
        "- минимальное количество образцов, необходимых для разбиения узла. Значение 2 — стандартное, а значения 5 увеличивают требования для разбиения узла, что может уменьшить переобучение\n",
        "\n",
        "**4. min_samples_leaf (минимальное количество образцов в листовом узле):**\n",
        "- Значения: [1, 2]\n",
        "- минимальное количество образцов, необходимых для создания листового узла. Значение 1 позволяет листовым узлам содержать один образец, в то время как значения 2 могут уменьшить переобучение"
      ],
      "metadata": {
        "id": "hhe1igsbeJHD"
      }
    },
    {
      "cell_type": "code",
      "execution_count": null,
      "metadata": {
        "id": "biBJJIoJGbIn",
        "colab": {
          "base_uri": "https://localhost:8080/"
        },
        "outputId": "de9af63a-58f4-40bd-bcfc-1dceaa00fed5"
      },
      "outputs": [
        {
          "output_type": "stream",
          "name": "stdout",
          "text": [
            "Лучшие гиперпараметры: {'max_depth': None, 'min_samples_leaf': 1, 'min_samples_split': 2, 'n_estimators': 200}\n"
          ]
        }
      ],
      "source": [
        "from sklearn.model_selection import GridSearchCV\n",
        "from sklearn.ensemble import RandomForestClassifier\n",
        "\n",
        "# Определение сетки гиперпараметров\n",
        "param_grid = {\n",
        "    'n_estimators': [100, 200],\n",
        "    'max_depth': [None, 20],\n",
        "    'min_samples_split': [2, 5],\n",
        "    'min_samples_leaf': [1, 2]\n",
        "}\n",
        "\n",
        "# Инициализация GridSearchCV\n",
        "grid_search = GridSearchCV(RandomForestClassifier(random_state=42), param_grid, cv=5, scoring='f1')\n",
        "grid_search.fit(X_train_vec, y_train)\n",
        "\n",
        "print(f'Лучшие гиперпараметры: {grid_search.best_params_}')"
      ]
    },
    {
      "cell_type": "markdown",
      "source": [
        "Глубина деревьев (max_depth: None) и минимальные значения для min_samples_split и min_samples_leaf указывают на то, что модель будет пытаться максимально точно подстраиваться под обучающие данные. Это может дать высокую точность на тренировочном наборе, но потенциально увеличивает риск переобучения.\n",
        "\n",
        "Увеличение числа деревьев (n_estimators: 200) помогает улучшить стабильность модели и её способность обобщать, что является положительным моментом."
      ],
      "metadata": {
        "id": "lo_663ukegTx"
      }
    },
    {
      "cell_type": "code",
      "execution_count": null,
      "metadata": {
        "id": "0wjeWudHGdEb",
        "colab": {
          "base_uri": "https://localhost:8080/",
          "height": 74
        },
        "outputId": "ae065443-7440-4d37-f2be-28da6922c046"
      },
      "outputs": [
        {
          "output_type": "execute_result",
          "data": {
            "text/plain": [
              "RandomForestClassifier(n_estimators=200, random_state=42)"
            ],
            "text/html": [
              "<style>#sk-container-id-1 {color: black;background-color: white;}#sk-container-id-1 pre{padding: 0;}#sk-container-id-1 div.sk-toggleable {background-color: white;}#sk-container-id-1 label.sk-toggleable__label {cursor: pointer;display: block;width: 100%;margin-bottom: 0;padding: 0.3em;box-sizing: border-box;text-align: center;}#sk-container-id-1 label.sk-toggleable__label-arrow:before {content: \"▸\";float: left;margin-right: 0.25em;color: #696969;}#sk-container-id-1 label.sk-toggleable__label-arrow:hover:before {color: black;}#sk-container-id-1 div.sk-estimator:hover label.sk-toggleable__label-arrow:before {color: black;}#sk-container-id-1 div.sk-toggleable__content {max-height: 0;max-width: 0;overflow: hidden;text-align: left;background-color: #f0f8ff;}#sk-container-id-1 div.sk-toggleable__content pre {margin: 0.2em;color: black;border-radius: 0.25em;background-color: #f0f8ff;}#sk-container-id-1 input.sk-toggleable__control:checked~div.sk-toggleable__content {max-height: 200px;max-width: 100%;overflow: auto;}#sk-container-id-1 input.sk-toggleable__control:checked~label.sk-toggleable__label-arrow:before {content: \"▾\";}#sk-container-id-1 div.sk-estimator input.sk-toggleable__control:checked~label.sk-toggleable__label {background-color: #d4ebff;}#sk-container-id-1 div.sk-label input.sk-toggleable__control:checked~label.sk-toggleable__label {background-color: #d4ebff;}#sk-container-id-1 input.sk-hidden--visually {border: 0;clip: rect(1px 1px 1px 1px);clip: rect(1px, 1px, 1px, 1px);height: 1px;margin: -1px;overflow: hidden;padding: 0;position: absolute;width: 1px;}#sk-container-id-1 div.sk-estimator {font-family: monospace;background-color: #f0f8ff;border: 1px dotted black;border-radius: 0.25em;box-sizing: border-box;margin-bottom: 0.5em;}#sk-container-id-1 div.sk-estimator:hover {background-color: #d4ebff;}#sk-container-id-1 div.sk-parallel-item::after {content: \"\";width: 100%;border-bottom: 1px solid gray;flex-grow: 1;}#sk-container-id-1 div.sk-label:hover label.sk-toggleable__label {background-color: #d4ebff;}#sk-container-id-1 div.sk-serial::before {content: \"\";position: absolute;border-left: 1px solid gray;box-sizing: border-box;top: 0;bottom: 0;left: 50%;z-index: 0;}#sk-container-id-1 div.sk-serial {display: flex;flex-direction: column;align-items: center;background-color: white;padding-right: 0.2em;padding-left: 0.2em;position: relative;}#sk-container-id-1 div.sk-item {position: relative;z-index: 1;}#sk-container-id-1 div.sk-parallel {display: flex;align-items: stretch;justify-content: center;background-color: white;position: relative;}#sk-container-id-1 div.sk-item::before, #sk-container-id-1 div.sk-parallel-item::before {content: \"\";position: absolute;border-left: 1px solid gray;box-sizing: border-box;top: 0;bottom: 0;left: 50%;z-index: -1;}#sk-container-id-1 div.sk-parallel-item {display: flex;flex-direction: column;z-index: 1;position: relative;background-color: white;}#sk-container-id-1 div.sk-parallel-item:first-child::after {align-self: flex-end;width: 50%;}#sk-container-id-1 div.sk-parallel-item:last-child::after {align-self: flex-start;width: 50%;}#sk-container-id-1 div.sk-parallel-item:only-child::after {width: 0;}#sk-container-id-1 div.sk-dashed-wrapped {border: 1px dashed gray;margin: 0 0.4em 0.5em 0.4em;box-sizing: border-box;padding-bottom: 0.4em;background-color: white;}#sk-container-id-1 div.sk-label label {font-family: monospace;font-weight: bold;display: inline-block;line-height: 1.2em;}#sk-container-id-1 div.sk-label-container {text-align: center;}#sk-container-id-1 div.sk-container {/* jupyter's `normalize.less` sets `[hidden] { display: none; }` but bootstrap.min.css set `[hidden] { display: none !important; }` so we also need the `!important` here to be able to override the default hidden behavior on the sphinx rendered scikit-learn.org. See: https://github.com/scikit-learn/scikit-learn/issues/21755 */display: inline-block !important;position: relative;}#sk-container-id-1 div.sk-text-repr-fallback {display: none;}</style><div id=\"sk-container-id-1\" class=\"sk-top-container\"><div class=\"sk-text-repr-fallback\"><pre>RandomForestClassifier(n_estimators=200, random_state=42)</pre><b>In a Jupyter environment, please rerun this cell to show the HTML representation or trust the notebook. <br />On GitHub, the HTML representation is unable to render, please try loading this page with nbviewer.org.</b></div><div class=\"sk-container\" hidden><div class=\"sk-item\"><div class=\"sk-estimator sk-toggleable\"><input class=\"sk-toggleable__control sk-hidden--visually\" id=\"sk-estimator-id-1\" type=\"checkbox\" checked><label for=\"sk-estimator-id-1\" class=\"sk-toggleable__label sk-toggleable__label-arrow\">RandomForestClassifier</label><div class=\"sk-toggleable__content\"><pre>RandomForestClassifier(n_estimators=200, random_state=42)</pre></div></div></div></div></div>"
            ]
          },
          "metadata": {},
          "execution_count": 11
        }
      ],
      "source": [
        "# Обучение модели с лучшими гиперпараметрами\n",
        "best_rf_model = grid_search.best_estimator_\n",
        "best_rf_model.fit(X_train_vec, y_train)"
      ]
    },
    {
      "cell_type": "code",
      "execution_count": null,
      "metadata": {
        "id": "mZDmA_7kk_J8",
        "colab": {
          "base_uri": "https://localhost:8080/",
          "height": 541
        },
        "outputId": "d55b2840-1cc9-4526-bb3d-540c56eb04ec"
      },
      "outputs": [
        {
          "output_type": "display_data",
          "data": {
            "text/plain": [
              "<Figure size 640x480 with 1 Axes>"
            ],
            "image/png": "[encoded data removed]"
          },
          "metadata": {}
        },
        {
          "output_type": "stream",
          "name": "stdout",
          "text": [
            "Accuracy: 0.8285\n",
            "Precision: 0.9434320425208808\n",
            "Recall: 0.8223031105228326\n",
            "F1 Score: 0.8787128712871287\n"
          ]
        }
      ],
      "source": [
        "from sklearn.metrics import accuracy_score, precision_score, recall_score, f1_score, precision_recall_curve\n",
        "\n",
        "# Получение вероятностей предсказаний для тестового набора\n",
        "y_probs = best_rf_model.predict_proba(X_test_vec)[:, 1]\n",
        "\n",
        "# Определение precision, recall и thresholds\n",
        "precision, recall, thresholds = precision_recall_curve(y_test, y_probs)\n",
        "\n",
        "# Визуализация кривой Precision-Recall\n",
        "import matplotlib.pyplot as plt\n",
        "\n",
        "plt.plot(thresholds, precision[:-1], 'b--', label='Precision')\n",
        "plt.plot(thresholds, recall[:-1], 'g-', label='Recall')\n",
        "plt.xlabel('Threshold')\n",
        "plt.legend(loc='best')\n",
        "plt.title('Precision-Recall vs Threshold')\n",
        "plt.show()\n",
        "\n",
        "# Применение threshold\n",
        "threshold = 0.75\n",
        "y_pred_threshold = (y_probs >= threshold).astype(int)\n",
        "\n",
        "print(f'Accuracy: {accuracy_score(y_test, y_pred_threshold)}')\n",
        "print(f'Precision: {precision_score(y_test, y_pred_threshold)}')\n",
        "print(f'Recall: {recall_score(y_test, y_pred_threshold)}')\n",
        "print(f'F1 Score: {f1_score(y_test, y_pred_threshold)}')"
      ]
    },
    {
      "cell_type": "code",
      "execution_count": null,
      "metadata": {
        "id": "M_s0a5gWEqZe",
        "colab": {
          "base_uri": "https://localhost:8080/"
        },
        "outputId": "85348b40-6336-4c72-9017-0dc568f7ca50"
      },
      "outputs": [
        {
          "output_type": "stream",
          "name": "stdout",
          "text": [
            "Reviews sentiments: [1 0]\n"
          ]
        }
      ],
      "source": [
        "# Пример подачи отзыва\n",
        "reviews = [\"This is a fantastic product!\", \"I am not satisfied with this purchase.\"]\n",
        "reviews_vec = tfidf_vectorizer.transform(reviews)\n",
        "reviews_pred = best_rf_model.predict(reviews_vec)\n",
        "print(f\"Reviews sentiments: {reviews_pred}\")"
      ]
    },
    {
      "cell_type": "markdown",
      "source": [
        "### **Сравнение моделей**\n",
        "\n",
        "**Baseline с логистической регрессией:**\n",
        "1. Дает высокий recall, что означает, что модель правильно идентифицирует большинство положительных отзывов.\n",
        "2. Высокий F1 Score показывает хорошее равновесие между точностью и полнотой.\n",
        "\n",
        "- Accuracy: 0.878\n",
        "- Precision: 0.8830108827085853\n",
        "- Recall: 0.9665784248841827\n",
        "- F1 Score: 0.9229067930489732\n",
        "\n",
        "**RandomForest с GridSearch:**\n",
        "1. Более высокий Precision, что указывает на меньшую вероятность ложноположительных классификаций. Но сниженный recall может указывать на то, что модель пропускает некоторые положительные отзывы.\n",
        "2. F1 Score ниже по сравнению с бейзлайном.\n",
        "\n",
        "- Accuracy: 0.8285\n",
        "- Precision: 0.9434320425208808\n",
        "- Recall: 0.8223031105228326\n",
        "- F1 Score: 0.8787128712871287"
      ],
      "metadata": {
        "id": "RYy-M3IffY1T"
      }
    },
    {
      "cell_type": "markdown",
      "source": [
        "### **Расширенная сетка гиперпараметров vs. Оптимизированная сетка гиперпараметров:**\n",
        "\n",
        "- расширенная сетка"
      ],
      "metadata": {
        "id": "FHVOf9bY2l0m"
      }
    },
    {
      "cell_type": "code",
      "source": [
        "param_grid = {\n",
        "    'n_estimators': [100, 200, 300],\n",
        "    'max_depth': [None, 10, 20, 30],\n",
        "    'min_samples_split': [2, 5, 10],\n",
        "    'min_samples_leaf': [1, 2, 4]\n",
        "}"
      ],
      "metadata": {
        "id": "bqlRcExx4Lk7"
      },
      "execution_count": null,
      "outputs": []
    },
    {
      "cell_type": "markdown",
      "source": [
        "- Accuracy: 0.8285\n",
        "- Precision: 0.9434320425208808\n",
        "- Recall: 0.8223031105228326\n",
        "- F1 Score: 0.8787128712871287"
      ],
      "metadata": {
        "id": "btfBd0w04QoJ"
      }
    },
    {
      "cell_type": "markdown",
      "source": [
        "- оптимизированная"
      ],
      "metadata": {
        "id": "lVhIZnNd4jS6"
      }
    },
    {
      "cell_type": "code",
      "source": [
        "param_grid = {\n",
        "    'n_estimators': [100, 200],\n",
        "    'max_depth': [None, 20],\n",
        "    'min_samples_split': [2, 5],\n",
        "    'min_samples_leaf': [1, 2]\n",
        "}"
      ],
      "metadata": {
        "id": "l9RxUwRU4Pr-"
      },
      "execution_count": null,
      "outputs": []
    },
    {
      "cell_type": "markdown",
      "source": [
        "**Причины:**\n",
        "- Сходные оптимальные параметры\n",
        "- Устойчивость модели\n",
        "- Исчерпывающий поиск\n"
      ],
      "metadata": {
        "id": "G56DowMW4yUX"
      }
    },
    {
      "cell_type": "markdown",
      "source": [
        "### **Выбор оптимального порога (threshold):**\n",
        "\n",
        "**С порогом 0.7:**\n",
        "- Accuracy: 0.85875\n",
        "- Precision: 0.9333333333333333\n",
        "- Recall: 0.8755790866975512\n",
        "- F1 Score: 0.9035342325422571\n",
        "\n",
        "**С порогом 0.8:**\n",
        "- Accuracy: 0.787\n",
        "- Precision: 0.9605263157894737\n",
        "- Recall: 0.7488418266048974\n",
        "- F1 Score: 0.841576794347341\n",
        "\n",
        "**С порогом 0.75:**\n",
        "- Accuracy: 0.8285\n",
        "- Precision: 0.9434320425208808\n",
        "- Recall: 0.8223031105228326\n",
        "- F1 Score: 0.8787128712871287\n",
        "\n",
        "**Анализ:**\n",
        "\n",
        "1. Precision: Самый высокий при пороге 0.8, что минимизирует ложноположительные предсказания.\n",
        "2. Recall: Самый высокий при пороге 0.7, что максимизирует нахождение всех положительных отзывов.\n",
        "3. F1 Score: Наилучший при пороге 0.7, что показывает лучший баланс междум Precision и Recall.\n",
        "\n",
        "**Оптимальным выбором будет порог 0.7**, так как он обеспечивает наилучший баланс между обнаружением положительных отзывов и минимизацией ложноположительных."
      ],
      "metadata": {
        "id": "XJ4Jkpt6h-IV"
      }
    },
    {
      "cell_type": "markdown",
      "metadata": {
        "id": "QK_4lhM1TXEa"
      },
      "source": [
        "### **Заключение**\n",
        "\n",
        "На основании этих результатов можно сделать выводы и принимать решения о дальнейшем улучшении модели и использовании различных методов обработки и анализа данных.\n",
        "\n",
        "**Например:**\n",
        "- Балансировка классов\n",
        "- Ансамблевые методы\n",
        "- Градиентный бустинг\n",
        "- Тюнинг гиперпараметров"
      ]
    }
  ],
  "metadata": {
    "colab": {
      "provenance": [],
      "gpuType": "T4"
    },
    "kernelspec": {
      "display_name": "Python 3",
      "name": "python3"
    },
    "language_info": {
      "name": "python"
    },
    "accelerator": "GPU"
  },
  "nbformat": 4,
  "nbformat_minor": 0
}